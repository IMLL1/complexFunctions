{
 "cells": [
  {
   "cell_type": "markdown",
   "metadata": {},
   "source": [
    "# Laplace Operator Proof"
   ]
  },
  {
   "cell_type": "markdown",
   "metadata": {},
   "source": [
    "The Laplacian is defined as\n",
    "$$\\begin{aligned}\n",
    "\\frac{\\partial^2 f}{\\partial x^2} + \\frac{\\partial^2 f}{\\partial y^2} &= 0 \\\\\n",
    "\\left(\\frac{\\partial^2}{\\partial x^2} + \\frac{\\partial^2}{\\partial y^2}\\right)f &= 0 \\\\\n",
    "\\nabla^2 f&=0\n",
    "\\end{aligned}$$"
   ]
  },
  {
   "cell_type": "markdown",
   "metadata": {},
   "source": [
    "For any $f(z):\\mathbb{C}\\to\\mathbb{C}$ we will define\n",
    "\n",
    "$$u(x,y)=\\Re f(x+iy)\\\\ v(x,y)=\\Im f(x+iy)$$\n",
    "\n",
    "By the definition of a derivative, the derivative of $f$ is $f'(z)$\n",
    "$$f'(z)=\\lim_{\\epsilon\\to 0} \\frac{f(z+\\epsilon)-f(z)}{\\epsilon}$$\n",
    "Where this differs from the real derivative is that $\\epsilon$ is not confined to a real number line; $\\epsilon\\in\\mathbb{C}$\n",
    "\n",
    "If $f$ is complex differentiable, then $\\frac{df}{dz}$ must be well defined in all directions. This means that $\\epsilon=\\epsilon_x+i\\epsilon_y \\to 0$ along any path. We will take the derivative along two paths; $\\epsilon_x\\to0, \\epsilon_y=0$ and $\\epsilon_x=0,\\epsilon_y\\to0$\n",
    "$$\n",
    "\\begin{aligned}\n",
    "\\lim_{\\epsilon=\\epsilon_x \\to 0} \\frac{f(z+\\epsilon) - f(z)}{\\epsilon} &= \\lim_{\\epsilon=i\\epsilon_y \\to 0} \\frac{f(z+\\epsilon)-f(z)}{\\epsilon}\\\\\n",
    "\\lim_{\\epsilon_x\\to 0} \\frac{f((x+\\epsilon_x)+iy) - f(x+iy)}{\\epsilon_x} &= \\lim_{\\epsilon_y \\to 0} \\frac{f(x+i(y+\\epsilon_y))-f(x+iy)}{i\\epsilon_y}\\\\\n",
    "\\lim_{\\epsilon_x\\to 0} \\frac{u((x+\\epsilon_x), y) - u(x, y)+iv((x+\\epsilon_x), y) - iv(x, y)}{\\epsilon_x} &= \\lim_{\\epsilon_y \\to 0} \\frac{u(x,i(y+\\epsilon_y))-u(x+iy)+iv(x,i(y+\\epsilon_y))-iv(x+iy)}{i\\epsilon_y}\\\\\n",
    "\\end{aligned}$$\n"
   ]
  },
  {
   "cell_type": "markdown",
   "metadata": {},
   "source": [
    "From here on out, we're working with real functions $u$ and $v$ of real variables $x$ and $y$, so we can play a little bit more fast and loose.\n",
    "$$\n",
    "\\begin{aligned}\n",
    "\\lim_{\\epsilon_x\\to 0} \\frac{u((x+\\epsilon_x), y) - u(x, y)+iv((x+\\epsilon_x), y) - iv(x, y)}{\\epsilon_x} &= \\lim_{\\epsilon_y \\to 0} \\frac{u(x,i(y+\\epsilon_y))-u(x+iy)+iv(x,i(y+\\epsilon_y))-iv(x+iy)}{i\\epsilon_y}\\\\\n",
    "\\lim_{\\epsilon_x\\to 0} \\frac{u((x+\\epsilon_x), y) - u(x, y)}{\\epsilon_x} +i\\lim_{\\epsilon_x\\to 0} \\frac{v((x+\\epsilon_x), y) - v(x, y)}{\\epsilon_x} &= \\lim_{\\epsilon_y \\to 0} \\frac{u(x,i(y+\\epsilon_y))-u(x+iy)}{i\\epsilon_y}+i\\lim_{\\epsilon_y \\to 0} \\frac{(x,i(y+\\epsilon_y))-v(x+iy)}{i\\epsilon_y}\\\\\n",
    "\\lim_{\\epsilon_x\\to 0} \\frac{u((x+\\epsilon_x), y) - u(x, y)}{\\epsilon_x} +i\\lim_{\\epsilon_x\\to 0} \\frac{v((x+\\epsilon_x), y) - v(x, y)}{\\epsilon_x} &= -i\\lim_{\\epsilon_y \\to 0} \\frac{u(x,i(y+\\epsilon_y))-u(x+iy)}{\\epsilon_y}+\\lim_{\\epsilon_y \\to 0} \\frac{(x,i(y+\\epsilon_y))-v(x+iy)}{\\epsilon_y}\\\\\n",
    "u_x(x,y) +iv_x(x,y) &= -iu_y(x,y)+v_y(x,y)\\\\\n",
    "u_x(x,y) +iv_x(x,y) &= v_y(x,y)-iu_y(x,y)\n",
    "\\end{aligned}$$"
   ]
  },
  {
   "cell_type": "markdown",
   "metadata": {},
   "source": [
    "By equating the real and imaginary components, we can see\n",
    "\n",
    "$$\\boxed{\\begin{aligned} u_x(x,y)&=v_y(x,y) \\\\ u_y(x,y)&=-v_x(x,y) \\end{aligned}}$$"
   ]
  },
  {
   "cell_type": "markdown",
   "metadata": {},
   "source": [
    "We'll write this solved for derivatives of $u$ and again solved for derivatives of $v$,\n",
    "\n",
    "$$\\begin{aligned}\n",
    "u_x(x,y)&=v_y(x,y)  \\qquad& v_x(x,y)&=-u_y(x,y)\\\\\n",
    "u_y(x,y)&=-v_x(x,y) \\qquad& v_y(x,y)&=u_x(x,y)\n",
    "\\end{aligned}$$\n",
    "\n",
    "Now, we will differentiate the first and second lines again in $x$ and $y$ respectively\n",
    "$$\\begin{aligned}\n",
    "u_{xx}(x,y)&=v_{yx}(x,y)  \\qquad& v_{xx}(x,y)&=-u_{yx}(x,y)\\\\\n",
    "u_{yy}(x,y)&=-v_{xy}(x,y) \\qquad& v_{yy}(x,y)&=u_{xy}(x,y)\n",
    "\\end{aligned}$$\n",
    "\n",
    "By the [Equality of Mixed Partials](https://en.wikipedia.org/wiki/Symmetry_of_second_derivatives), $v_{xy}=v_{yx}$ and $u_{xy}=u_{yx}$. From this,\n",
    "$$u_{xx}(x,y)=-u_{yy}(x,y)\\\\v_{xx}(x,y)=-v_{yy}(x,y)\\\\$$"
   ]
  },
  {
   "cell_type": "markdown",
   "metadata": {},
   "source": [
    "This can also be written as\n",
    "\n",
    "$$\\begin{align}\n",
    "\\frac{\\partial^2 u}{\\partial x^2}=-\\frac{\\partial^2 u}{\\partial y^2}\\qquad\\qquad&\\frac{\\partial^2 v}{\\partial x^2}=-\\frac{\\partial^2 v}{\\partial y^2}\\\\\n",
    "\\frac{\\partial^2 u}{\\partial x^2}+\\frac{\\partial^2 u}{\\partial y^2}=0\\qquad\\qquad&\\frac{\\partial^2 v}{\\partial x^2}+\\frac{\\partial^2 v}{\\partial y^2}=0\n",
    "\\end{align}$$\n",
    "\n",
    "Both $u$ and $v$ satisfy the Laplacian. We can show that therefore $f$ does too.\n",
    "\n",
    "\n",
    "$$\\begin{aligned}\n",
    "\\nabla^2 f &= \\nabla^2 (u+iv)\\\\\n",
    "&= \\nabla^2 u+\\nabla^2 v\\\\\n",
    "&= \\left(\\frac{\\partial^2 u}{\\partial x^2}+\\frac{\\partial^2 u}{\\partial y^2}\\right)+\\left(\\frac{\\partial^2 v}{\\partial x^2}+\\frac{\\partial^2 v}{\\partial y^2}\\right)\\\\\n",
    "&= 0+0\\\\\n",
    "&=0\n",
    "\\end{aligned}$$"
   ]
  },
  {
   "cell_type": "markdown",
   "metadata": {},
   "source": [
    "We have now shown conclusively that\n",
    "$$\\boxed{\\nabla^2 f = \\frac{\\partial^2 f}{\\partial x^2}+\\frac{\\partial^2 f}{\\partial y^2}=0}$$\n",
    "$$\\forall f(x+iy):\\mathbb{C}\\to\\mathbb{C}\\text{ if }f(z)\\text{ is complex differentiable}$$"
   ]
  },
  {
   "cell_type": "markdown",
   "metadata": {},
   "source": [
    "# Python Demo"
   ]
  },
  {
   "cell_type": "code",
   "execution_count": 176,
   "metadata": {},
   "outputs": [],
   "source": [
    "import sympy as sym\n",
    "import numpy as np\n",
    "import matplotlib.pyplot as plt"
   ]
  },
  {
   "cell_type": "code",
   "execution_count": 177,
   "metadata": {},
   "outputs": [
    {
     "data": {
      "text/latex": [
       "$\\displaystyle \\log{\\left(- z^{2} + e^{z} - 3 + e^{- z} \\right)}$"
      ],
      "text/plain": [
       "log(-z**2 + exp(z) - 3 + exp(-z))"
      ]
     },
     "execution_count": 177,
     "metadata": {},
     "output_type": "execute_result"
    }
   ],
   "source": [
    "# pick f as a function of z\n",
    "f_text = \"log(exp(z)-3+exp(-z)-z^2)\"\n",
    "sym.sympify(f_text)"
   ]
  },
  {
   "cell_type": "code",
   "execution_count": 178,
   "metadata": {},
   "outputs": [],
   "source": [
    "# make it symbolic\n",
    "f = sym.sympify(f_text)\n",
    "\n",
    "# replace f(z) by f(x+iy)\n",
    "x, y = sym.symbols('x y', real=True)\n",
    "f = f.subs('z', x+y*1j)\n",
    "\n",
    "# differentiate twice in x and y\n",
    "fx = f.diff(x)\n",
    "fy = f.diff(y)\n",
    "fxx = fx.diff(x)\n",
    "fyy = fy.diff(y)"
   ]
  },
  {
   "cell_type": "code",
   "execution_count": 179,
   "metadata": {},
   "outputs": [
    {
     "data": {
      "text/latex": [
       "$\\displaystyle \\frac{\\left(- 2.0 i \\left(x + 1.0 i y\\right) - 1.0 i e^{- x - 1.0 i y} + 1.0 i e^{x + 1.0 i y}\\right) \\left(2.0 i \\left(x + 1.0 i y\\right) + 1.0 i e^{- x - 1.0 i y} - 1.0 i e^{x + 1.0 i y}\\right)}{\\left(- \\left(x + 1.0 i y\\right)^{2} + e^{- x - 1.0 i y} + e^{x + 1.0 i y} - 3\\right)^{2}} + \\frac{- 1.0 e^{- x - 1.0 i y} - 1.0 e^{x + 1.0 i y} + 2.0}{- \\left(x + 1.0 i y\\right)^{2} + e^{- x - 1.0 i y} + e^{x + 1.0 i y} - 3} + \\frac{e^{- x - 1.0 i y} + e^{x + 1.0 i y} - 2}{- \\left(x + 1.0 i y\\right)^{2} + e^{- x - 1.0 i y} + e^{x + 1.0 i y} - 3} + \\frac{\\left(- 2 x - 2.0 i y - e^{- x - 1.0 i y} + e^{x + 1.0 i y}\\right) \\left(2 x + 2.0 i y + e^{- x - 1.0 i y} - e^{x + 1.0 i y}\\right)}{\\left(- \\left(x + 1.0 i y\\right)^{2} + e^{- x - 1.0 i y} + e^{x + 1.0 i y} - 3\\right)^{2}}$"
      ],
      "text/plain": [
       "(-2.0*I*(x + 1.0*I*y) - 1.0*I*exp(-x - 1.0*I*y) + 1.0*I*exp(x + 1.0*I*y))*(2.0*I*(x + 1.0*I*y) + 1.0*I*exp(-x - 1.0*I*y) - 1.0*I*exp(x + 1.0*I*y))/(-(x + 1.0*I*y)**2 + exp(-x - 1.0*I*y) + exp(x + 1.0*I*y) - 3)**2 + (-1.0*exp(-x - 1.0*I*y) - 1.0*exp(x + 1.0*I*y) + 2.0)/(-(x + 1.0*I*y)**2 + exp(-x - 1.0*I*y) + exp(x + 1.0*I*y) - 3) + (exp(-x - 1.0*I*y) + exp(x + 1.0*I*y) - 2)/(-(x + 1.0*I*y)**2 + exp(-x - 1.0*I*y) + exp(x + 1.0*I*y) - 3) + (-2*x - 2.0*I*y - exp(-x - 1.0*I*y) + exp(x + 1.0*I*y))*(2*x + 2.0*I*y + exp(-x - 1.0*I*y) - exp(x + 1.0*I*y))/(-(x + 1.0*I*y)**2 + exp(-x - 1.0*I*y) + exp(x + 1.0*I*y) - 3)**2"
      ]
     },
     "execution_count": 179,
     "metadata": {},
     "output_type": "execute_result"
    }
   ],
   "source": [
    "# Calculate the Laplacian\n",
    "fxx+fyy"
   ]
  },
  {
   "cell_type": "code",
   "execution_count": 180,
   "metadata": {},
   "outputs": [
    {
     "data": {
      "text/latex": [
       "$\\displaystyle 0$"
      ],
      "text/plain": [
       "0"
      ]
     },
     "execution_count": 180,
     "metadata": {},
     "output_type": "execute_result"
    }
   ],
   "source": [
    "# simplify \n",
    "sym.simplify(fxx+fyy)"
   ]
  }
 ],
 "metadata": {
  "kernelspec": {
   "display_name": "Python 3",
   "language": "python",
   "name": "python3"
  },
  "language_info": {
   "codemirror_mode": {
    "name": "ipython",
    "version": 3
   },
   "file_extension": ".py",
   "mimetype": "text/x-python",
   "name": "python",
   "nbconvert_exporter": "python",
   "pygments_lexer": "ipython3",
   "version": "3.11.9"
  }
 },
 "nbformat": 4,
 "nbformat_minor": 2
}
